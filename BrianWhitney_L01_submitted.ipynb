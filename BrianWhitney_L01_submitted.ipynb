{
 "cells": [
  {
   "cell_type": "markdown",
   "metadata": {},
   "source": [
    "# Assignment\n",
    "\n",
    "For this assignment, we assume that you are already familiar with the basics of Python. One of the Python libraries data scientists often use is `numpy`, which is a library that facilitates array computations, such as matrix algebra. What this means is that using numpy, we can manipulate vectors, matrices or any n-dimensional array mostly without the need to write loops, so the code is cleaner and more succinct. In this exercise, we want to learn the basics of `numpy` and `pandas`.\n",
    "\n",
    "1. Create a Python list whose elements are the numbers 3, 7, 1, 3, 5. <span style=\"color:red\" float:right>[1 point]</span>"
   ]
  },
  {
   "cell_type": "code",
   "execution_count": 1,
   "metadata": {},
   "outputs": [],
   "source": [
    "arr = [3, 7, 1, 3, 5]"
   ]
  },
  {
   "cell_type": "markdown",
   "metadata": {},
   "source": [
    "2.  Write a function that computes the average of a list of numbers. Run your function on the above list so that it returns its average. Your function should only make use of Python **built-ins** (no libraries). <span style=\"color:red\" float:right>[2 point]</span>"
   ]
  },
  {
   "cell_type": "code",
   "execution_count": 20,
   "metadata": {},
   "outputs": [],
   "source": [
    "def avg(arr):\n",
    "    return  sum(arr)/len(arr)\n"
   ]
  },
  {
   "cell_type": "markdown",
   "metadata": {},
   "source": [
    "3. Use the `%%timeit` magic to compute the average runtime of your function. Use the `-n 100` switch to choose to re-run the function 100 times (the more often you re-run it, the more accurate the average runtime is). <span style=\"color:red\" float:right>[1 point]</span>"
   ]
  },
  {
   "cell_type": "code",
   "execution_count": 28,
   "metadata": {},
   "outputs": [
    {
     "name": "stdout",
     "output_type": "stream",
     "text": [
      "290 ns ± 61.5 ns per loop (mean ± std. dev. of 7 runs, 100 loops each)\n"
     ]
    }
   ],
   "source": [
    "%%timeit -n 100\n",
    "avg(arr)"
   ]
  },
  {
   "cell_type": "markdown",
   "metadata": {},
   "source": [
    "4. Load the `numpy` library and use it to turn the above list into a `numpy` 1-D array. HINT: Use `numpy.array`. <span style=\"color:red\" float:right>[1 point]</span>"
   ]
  },
  {
   "cell_type": "code",
   "execution_count": 7,
   "metadata": {},
   "outputs": [],
   "source": [
    "import numpy as np\n",
    "np_arr = np.array(arr)"
   ]
  },
  {
   "cell_type": "markdown",
   "metadata": {},
   "source": [
    "Because getting the average of an array is a common operation, with `numpy` we don't have to \"re-invent the wheel\": we can just call the `mean` function. There are two ways of doing this: (1) you can call the `numpy.mean` function and pass it the array, or (2) you can call the `mean` method of the array. \n",
    "\n",
    "5. Print the average of the above array. Get the average using `numpy` in **both** of the ways described above. <span style=\"color:red\" float:right>[2 point]</span>"
   ]
  },
  {
   "cell_type": "code",
   "execution_count": 8,
   "metadata": {},
   "outputs": [
    {
     "name": "stdout",
     "output_type": "stream",
     "text": [
      "3.8\n",
      "3.8\n"
     ]
    }
   ],
   "source": [
    "print(np.mean(np_arr))\n",
    "print(np_arr.mean())"
   ]
  },
  {
   "cell_type": "markdown",
   "metadata": {},
   "source": [
    "6. Compare the runtime of the average computation using `numpy` with the runtime of the function you wrote eariler. <span style=\"color:red\" float:right>[1 point]</span>"
   ]
  },
  {
   "cell_type": "code",
   "execution_count": 29,
   "metadata": {},
   "outputs": [
    {
     "name": "stdout",
     "output_type": "stream",
     "text": [
      "1.18 µs ± 73.4 ns per loop (mean ± std. dev. of 7 runs, 100 loops each)\n"
     ]
    }
   ],
   "source": [
    "%%timeit -n 100\n",
    "np.array(arr)"
   ]
  },
  {
   "cell_type": "markdown",
   "metadata": {},
   "source": [
    "Of course, most data scientists don't write their own machine learning algorithms. Instead we use existing algorithms and apply them to real-world problems. So `numpy` is to some extent too \"low level\" and we need a higher level library like `pandas` to work with data. So what do `numpy` and `pandas` have in common? First let's see what a 1-D array looks like in `pandas`:\n",
    "\n",
    "7. Load the `pandas` library and use `pandas.Series` to create a pandas `Series` object, which is the equivalent of a `numpy` 1-D array. <span style=\"color:red\" float:right>[1 point]</span>"
   ]
  },
  {
   "cell_type": "code",
   "execution_count": 13,
   "metadata": {},
   "outputs": [],
   "source": [
    "import pandas as pd\n",
    "pd_arr = pd.Series(arr)"
   ]
  },
  {
   "cell_type": "markdown",
   "metadata": {},
   "source": [
    "8. Pass the `Series` to the `numpy.mean` function to confirm it returns its average. <span style=\"color:red\" float:right>[1 point]</span>"
   ]
  },
  {
   "cell_type": "code",
   "execution_count": 15,
   "metadata": {},
   "outputs": [
    {
     "data": {
      "text/plain": [
       "3.8"
      ]
     },
     "execution_count": 15,
     "metadata": {},
     "output_type": "execute_result"
    }
   ],
   "source": [
    "np.mean(pd_arr)"
   ]
  },
  {
   "cell_type": "markdown",
   "metadata": {},
   "source": [
    "9. Call the `mean` method of the `Series` and confirm it returns its average. <span style=\"color:red\" float:right>[1 point]</span>"
   ]
  },
  {
   "cell_type": "code",
   "execution_count": 17,
   "metadata": {},
   "outputs": [
    {
     "data": {
      "text/plain": [
       "3.8"
      ]
     },
     "execution_count": 17,
     "metadata": {},
     "output_type": "execute_result"
    }
   ],
   "source": [
    "pd_arr.mean()"
   ]
  },
  {
   "cell_type": "markdown",
   "metadata": {},
   "source": [
    "So you can think of a `Series` in `pandas` almost as the same thing as a 1-D array in `numpy`. In fact calling the `values` attribute of the `Series` returns it as a numpy array.\n",
    "\n",
    "10. Show that by calling the `values` attribute of a `Series` object, you get a `numpy` array. HINT: You can use the `type` built-in to check its type. <span style=\"color:red\" float:right>[1 point]</span>"
   ]
  },
  {
   "cell_type": "code",
   "execution_count": 18,
   "metadata": {},
   "outputs": [
    {
     "data": {
      "text/plain": [
       "numpy.ndarray"
      ]
     },
     "execution_count": 18,
     "metadata": {},
     "output_type": "execute_result"
    }
   ],
   "source": [
    "type(pd_arr.values)"
   ]
  },
  {
   "cell_type": "markdown",
   "metadata": {},
   "source": [
    "# End of assignment"
   ]
  }
 ],
 "metadata": {
  "kernelspec": {
   "display_name": "Python 3",
   "language": "python",
   "name": "python3"
  },
  "language_info": {
   "codemirror_mode": {
    "name": "ipython",
    "version": 3
   },
   "file_extension": ".py",
   "mimetype": "text/x-python",
   "name": "python",
   "nbconvert_exporter": "python",
   "pygments_lexer": "ipython3",
   "version": "3.7.4"
  }
 },
 "nbformat": 4,
 "nbformat_minor": 4
}
